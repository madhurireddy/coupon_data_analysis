{
 "cells": [
  {
   "cell_type": "markdown",
   "metadata": {
    "id": "CcUT6Fon_qRE"
   },
   "source": [
    "### Required Assignment 5.1: Will the Customer Accept the Coupon?\n",
    "\n",
    "**Context**\n",
    "\n",
    "Imagine driving through town and a coupon is delivered to your cell phone for a restaurant near where you are driving. Would you accept that coupon and take a short detour to the restaurant? Would you accept the coupon but use it on a subsequent trip? Would you ignore the coupon entirely? What if the coupon was for a bar instead of a restaurant? What about a coffee house? Would you accept a bar coupon with a minor passenger in the car? What about if it was just you and your partner in the car? Would weather impact the rate of acceptance? What about the time of day?\n",
    "\n",
    "Obviously, proximity to the business is a factor on whether the coupon is delivered to the driver or not, but what are the factors that determine whether a driver accepts the coupon once it is delivered to them? How would you determine whether a driver is likely to accept a coupon?\n",
    "\n",
    "**Overview**\n",
    "\n",
    "The goal of this project is to use what you know about visualizations and probability distributions to distinguish between customers who accepted a driving coupon versus those that did not.\n",
    "\n",
    "**Data**\n",
    "\n",
    "This data comes to us from the UCI Machine Learning repository and was collected via a survey on Amazon Mechanical Turk. The survey describes different driving scenarios including the destination, current time, weather, passenger, etc., and then ask the person whether he will accept the coupon if he is the driver. Answers that the user will drive there ‘right away’ or ‘later before the coupon expires’ are labeled as ‘Y = 1’ and answers ‘no, I do not want the coupon’ are labeled as ‘Y = 0’.  There are five different types of coupons -- less expensive restaurants (under \\$20), coffee houses, carry out & take away, bar, and more expensive restaurants (\\$20 - $50)."
   ]
  },
  {
   "cell_type": "markdown",
   "metadata": {
    "id": "1wORvMBJ_qRF"
   },
   "source": [
    "**Deliverables**\n",
    "\n",
    "Your final product should be a brief report that highlights the differences between customers who did and did not accept the coupons.  To explore the data you will utilize your knowledge of plotting, statistical summaries, and visualization using Python. You will publish your findings in a public facing github repository as your first portfolio piece.\n",
    "\n",
    "\n",
    "\n"
   ]
  },
  {
   "cell_type": "markdown",
   "metadata": {
    "id": "pG6_Ym6q_qRG"
   },
   "source": [
    "### Data Description\n",
    "Keep in mind that these values mentioned below are average values.\n",
    "\n",
    "The attributes of this data set include:\n",
    "1. User attributes\n",
    "    -  Gender: male, female\n",
    "    -  Age: below 21, 21 to 25, 26 to 30, etc.\n",
    "    -  Marital Status: single, married partner, unmarried partner, or widowed\n",
    "    -  Number of children: 0, 1, or more than 1\n",
    "    -  Education: high school, bachelors degree, associates degree, or graduate degree\n",
    "    -  Occupation: architecture & engineering, business & financial, etc.\n",
    "    -  Annual income: less than \\\\$12500, \\\\$12500 - \\\\$24999, \\\\$25000 - \\\\$37499, etc.\n",
    "    -  Number of times that he/she goes to a bar: 0, less than 1, 1 to 3, 4 to 8 or greater than 8\n",
    "    -  Number of times that he/she buys takeaway food: 0, less than 1, 1 to 3, 4 to 8 or greater\n",
    "    than 8\n",
    "    -  Number of times that he/she goes to a coffee house: 0, less than 1, 1 to 3, 4 to 8 or\n",
    "    greater than 8\n",
    "    -  Number of times that he/she eats at a restaurant with average expense less than \\\\$20 per\n",
    "    person: 0, less than 1, 1 to 3, 4 to 8 or greater than 8\n",
    "    -  Number of times that he/she goes to a bar: 0, less than 1, 1 to 3, 4 to 8 or greater than 8\n",
    "    \n",
    "\n",
    "2. Contextual attributes\n",
    "    - Driving destination: home, work, or no urgent destination\n",
    "    - Location of user, coupon and destination: we provide a map to show the geographical\n",
    "    location of the user, destination, and the venue, and we mark the distance between each\n",
    "    two places with time of driving. The user can see whether the venue is in the same\n",
    "    direction as the destination.\n",
    "    - Weather: sunny, rainy, or snowy\n",
    "    - Temperature: 30F, 55F, or 80F\n",
    "    - Time: 10AM, 2PM, or 6PM\n",
    "    - Passenger: alone, partner, kid(s), or friend(s)\n",
    "\n",
    "\n",
    "3. Coupon attributes\n",
    "    - time before it expires: 2 hours or one day"
   ]
  },
  {
   "cell_type": "code",
   "metadata": {
    "id": "dzNoP3o__qRG",
    "is_executing": true,
    "ExecuteTime": {
     "end_time": "2024-12-16T01:12:13.680992Z",
     "start_time": "2024-12-16T01:12:13.665897Z"
    }
   },
   "source": [
    "import matplotlib.pyplot as plt\n",
    "import seaborn as sns\n",
    "import pandas as pd\n",
    "import numpy as np"
   ],
   "outputs": [],
   "execution_count": 25
  },
  {
   "cell_type": "markdown",
   "metadata": {
    "id": "Ct8pI1uE_qRG"
   },
   "source": [
    "### Problems\n",
    "\n",
    "Use the prompts below to get started with your data analysis.  \n",
    "\n",
    "1. Read in the `coupons.csv` file.\n",
    "\n",
    "\n"
   ]
  },
  {
   "cell_type": "code",
   "metadata": {
    "id": "X0vbffYg_qRH",
    "ExecuteTime": {
     "end_time": "2024-12-16T01:12:16.743142Z",
     "start_time": "2024-12-16T01:12:16.563133Z"
    }
   },
   "source": [
    "data = pd.read_csv('data/coupons.csv')"
   ],
   "outputs": [],
   "execution_count": 26
  },
  {
   "cell_type": "code",
   "metadata": {
    "id": "TXofQ_DF_qRH",
    "outputId": "2fc96a2c-1112-4b54-f24f-dbb9bc88abfb",
    "ExecuteTime": {
     "end_time": "2024-12-16T01:12:21.130835Z",
     "start_time": "2024-12-16T01:12:21.099273Z"
    }
   },
   "source": [
    "\n",
    "sample = data.sample(n=5)\n",
    "sample\n",
    "#unique_values = data['occupation'].unique()\n",
    "#unique_values"
   ],
   "outputs": [
    {
     "data": {
      "text/plain": [
       "           destination  passanger weather  temperature  time           coupon  \\\n",
       "2097   No Urgent Place  Friend(s)   Sunny           80  10AM              Bar   \n",
       "10627  No Urgent Place      Alone   Snowy           30   2PM              Bar   \n",
       "11549  No Urgent Place  Friend(s)   Sunny           80   6PM  Restaurant(<20)   \n",
       "11970             Home      Alone   Snowy           30  10PM     Coffee House   \n",
       "830    No Urgent Place      Alone   Sunny           55   2PM  Restaurant(<20)   \n",
       "\n",
       "      expiration  gender     age    maritalStatus  ...  CoffeeHouse CarryAway  \\\n",
       "2097          1d  Female      26           Single  ...          1~3       gt8   \n",
       "10627         1d    Male      21           Single  ...        never       gt8   \n",
       "11549         2h    Male      31  Married partner  ...          gt8       4~8   \n",
       "11970         2h    Male  50plus  Married partner  ...          1~3       1~3   \n",
       "830           1d    Male  50plus  Married partner  ...        never     less1   \n",
       "\n",
       "      RestaurantLessThan20 Restaurant20To50 toCoupon_GEQ5min  \\\n",
       "2097                   4~8              1~3                1   \n",
       "10627                less1            less1                1   \n",
       "11549                  1~3            less1                1   \n",
       "11970                  1~3            less1                1   \n",
       "830                    1~3            less1                1   \n",
       "\n",
       "      toCoupon_GEQ15min toCoupon_GEQ25min direction_same direction_opp  Y  \n",
       "2097                  0                 0              0             1  1  \n",
       "10627                 0                 0              0             1  0  \n",
       "11549                 0                 0              0             1  1  \n",
       "11970                 1                 0              0             1  0  \n",
       "830                   0                 0              0             1  0  \n",
       "\n",
       "[5 rows x 26 columns]"
      ],
      "text/html": [
       "<div>\n",
       "<style scoped>\n",
       "    .dataframe tbody tr th:only-of-type {\n",
       "        vertical-align: middle;\n",
       "    }\n",
       "\n",
       "    .dataframe tbody tr th {\n",
       "        vertical-align: top;\n",
       "    }\n",
       "\n",
       "    .dataframe thead th {\n",
       "        text-align: right;\n",
       "    }\n",
       "</style>\n",
       "<table border=\"1\" class=\"dataframe\">\n",
       "  <thead>\n",
       "    <tr style=\"text-align: right;\">\n",
       "      <th></th>\n",
       "      <th>destination</th>\n",
       "      <th>passanger</th>\n",
       "      <th>weather</th>\n",
       "      <th>temperature</th>\n",
       "      <th>time</th>\n",
       "      <th>coupon</th>\n",
       "      <th>expiration</th>\n",
       "      <th>gender</th>\n",
       "      <th>age</th>\n",
       "      <th>maritalStatus</th>\n",
       "      <th>...</th>\n",
       "      <th>CoffeeHouse</th>\n",
       "      <th>CarryAway</th>\n",
       "      <th>RestaurantLessThan20</th>\n",
       "      <th>Restaurant20To50</th>\n",
       "      <th>toCoupon_GEQ5min</th>\n",
       "      <th>toCoupon_GEQ15min</th>\n",
       "      <th>toCoupon_GEQ25min</th>\n",
       "      <th>direction_same</th>\n",
       "      <th>direction_opp</th>\n",
       "      <th>Y</th>\n",
       "    </tr>\n",
       "  </thead>\n",
       "  <tbody>\n",
       "    <tr>\n",
       "      <th>2097</th>\n",
       "      <td>No Urgent Place</td>\n",
       "      <td>Friend(s)</td>\n",
       "      <td>Sunny</td>\n",
       "      <td>80</td>\n",
       "      <td>10AM</td>\n",
       "      <td>Bar</td>\n",
       "      <td>1d</td>\n",
       "      <td>Female</td>\n",
       "      <td>26</td>\n",
       "      <td>Single</td>\n",
       "      <td>...</td>\n",
       "      <td>1~3</td>\n",
       "      <td>gt8</td>\n",
       "      <td>4~8</td>\n",
       "      <td>1~3</td>\n",
       "      <td>1</td>\n",
       "      <td>0</td>\n",
       "      <td>0</td>\n",
       "      <td>0</td>\n",
       "      <td>1</td>\n",
       "      <td>1</td>\n",
       "    </tr>\n",
       "    <tr>\n",
       "      <th>10627</th>\n",
       "      <td>No Urgent Place</td>\n",
       "      <td>Alone</td>\n",
       "      <td>Snowy</td>\n",
       "      <td>30</td>\n",
       "      <td>2PM</td>\n",
       "      <td>Bar</td>\n",
       "      <td>1d</td>\n",
       "      <td>Male</td>\n",
       "      <td>21</td>\n",
       "      <td>Single</td>\n",
       "      <td>...</td>\n",
       "      <td>never</td>\n",
       "      <td>gt8</td>\n",
       "      <td>less1</td>\n",
       "      <td>less1</td>\n",
       "      <td>1</td>\n",
       "      <td>0</td>\n",
       "      <td>0</td>\n",
       "      <td>0</td>\n",
       "      <td>1</td>\n",
       "      <td>0</td>\n",
       "    </tr>\n",
       "    <tr>\n",
       "      <th>11549</th>\n",
       "      <td>No Urgent Place</td>\n",
       "      <td>Friend(s)</td>\n",
       "      <td>Sunny</td>\n",
       "      <td>80</td>\n",
       "      <td>6PM</td>\n",
       "      <td>Restaurant(&lt;20)</td>\n",
       "      <td>2h</td>\n",
       "      <td>Male</td>\n",
       "      <td>31</td>\n",
       "      <td>Married partner</td>\n",
       "      <td>...</td>\n",
       "      <td>gt8</td>\n",
       "      <td>4~8</td>\n",
       "      <td>1~3</td>\n",
       "      <td>less1</td>\n",
       "      <td>1</td>\n",
       "      <td>0</td>\n",
       "      <td>0</td>\n",
       "      <td>0</td>\n",
       "      <td>1</td>\n",
       "      <td>1</td>\n",
       "    </tr>\n",
       "    <tr>\n",
       "      <th>11970</th>\n",
       "      <td>Home</td>\n",
       "      <td>Alone</td>\n",
       "      <td>Snowy</td>\n",
       "      <td>30</td>\n",
       "      <td>10PM</td>\n",
       "      <td>Coffee House</td>\n",
       "      <td>2h</td>\n",
       "      <td>Male</td>\n",
       "      <td>50plus</td>\n",
       "      <td>Married partner</td>\n",
       "      <td>...</td>\n",
       "      <td>1~3</td>\n",
       "      <td>1~3</td>\n",
       "      <td>1~3</td>\n",
       "      <td>less1</td>\n",
       "      <td>1</td>\n",
       "      <td>1</td>\n",
       "      <td>0</td>\n",
       "      <td>0</td>\n",
       "      <td>1</td>\n",
       "      <td>0</td>\n",
       "    </tr>\n",
       "    <tr>\n",
       "      <th>830</th>\n",
       "      <td>No Urgent Place</td>\n",
       "      <td>Alone</td>\n",
       "      <td>Sunny</td>\n",
       "      <td>55</td>\n",
       "      <td>2PM</td>\n",
       "      <td>Restaurant(&lt;20)</td>\n",
       "      <td>1d</td>\n",
       "      <td>Male</td>\n",
       "      <td>50plus</td>\n",
       "      <td>Married partner</td>\n",
       "      <td>...</td>\n",
       "      <td>never</td>\n",
       "      <td>less1</td>\n",
       "      <td>1~3</td>\n",
       "      <td>less1</td>\n",
       "      <td>1</td>\n",
       "      <td>0</td>\n",
       "      <td>0</td>\n",
       "      <td>0</td>\n",
       "      <td>1</td>\n",
       "      <td>0</td>\n",
       "    </tr>\n",
       "  </tbody>\n",
       "</table>\n",
       "<p>5 rows × 26 columns</p>\n",
       "</div>"
      ]
     },
     "execution_count": 27,
     "metadata": {},
     "output_type": "execute_result"
    }
   ],
   "execution_count": 27
  },
  {
   "cell_type": "markdown",
   "metadata": {
    "id": "GcDs78ZH_qRH"
   },
   "source": [
    "2. Investigate the dataset for missing or problematic data."
   ]
  },
  {
   "cell_type": "code",
   "metadata": {
    "id": "6CwL6oWj_qRH",
    "ExecuteTime": {
     "end_time": "2024-12-16T01:12:25.351789Z",
     "start_time": "2024-12-16T01:12:25.231390Z"
    }
   },
   "source": [
    "data.info()\n",
    "print(data.isnull().sum())\n",
    "\n",
    "print(data.isnull().mean() * 100)"
   ],
   "outputs": [
    {
     "name": "stdout",
     "output_type": "stream",
     "text": [
      "<class 'pandas.core.frame.DataFrame'>\n",
      "RangeIndex: 12684 entries, 0 to 12683\n",
      "Data columns (total 26 columns):\n",
      " #   Column                Non-Null Count  Dtype \n",
      "---  ------                --------------  ----- \n",
      " 0   destination           12684 non-null  object\n",
      " 1   passanger             12684 non-null  object\n",
      " 2   weather               12684 non-null  object\n",
      " 3   temperature           12684 non-null  int64 \n",
      " 4   time                  12684 non-null  object\n",
      " 5   coupon                12684 non-null  object\n",
      " 6   expiration            12684 non-null  object\n",
      " 7   gender                12684 non-null  object\n",
      " 8   age                   12684 non-null  object\n",
      " 9   maritalStatus         12684 non-null  object\n",
      " 10  has_children          12684 non-null  int64 \n",
      " 11  education             12684 non-null  object\n",
      " 12  occupation            12684 non-null  object\n",
      " 13  income                12684 non-null  object\n",
      " 14  car                   108 non-null    object\n",
      " 15  Bar                   12577 non-null  object\n",
      " 16  CoffeeHouse           12467 non-null  object\n",
      " 17  CarryAway             12533 non-null  object\n",
      " 18  RestaurantLessThan20  12554 non-null  object\n",
      " 19  Restaurant20To50      12495 non-null  object\n",
      " 20  toCoupon_GEQ5min      12684 non-null  int64 \n",
      " 21  toCoupon_GEQ15min     12684 non-null  int64 \n",
      " 22  toCoupon_GEQ25min     12684 non-null  int64 \n",
      " 23  direction_same        12684 non-null  int64 \n",
      " 24  direction_opp         12684 non-null  int64 \n",
      " 25  Y                     12684 non-null  int64 \n",
      "dtypes: int64(8), object(18)\n",
      "memory usage: 2.5+ MB\n",
      "destination                 0\n",
      "passanger                   0\n",
      "weather                     0\n",
      "temperature                 0\n",
      "time                        0\n",
      "coupon                      0\n",
      "expiration                  0\n",
      "gender                      0\n",
      "age                         0\n",
      "maritalStatus               0\n",
      "has_children                0\n",
      "education                   0\n",
      "occupation                  0\n",
      "income                      0\n",
      "car                     12576\n",
      "Bar                       107\n",
      "CoffeeHouse               217\n",
      "CarryAway                 151\n",
      "RestaurantLessThan20      130\n",
      "Restaurant20To50          189\n",
      "toCoupon_GEQ5min            0\n",
      "toCoupon_GEQ15min           0\n",
      "toCoupon_GEQ25min           0\n",
      "direction_same              0\n",
      "direction_opp               0\n",
      "Y                           0\n",
      "dtype: int64\n",
      "destination              0.000000\n",
      "passanger                0.000000\n",
      "weather                  0.000000\n",
      "temperature              0.000000\n",
      "time                     0.000000\n",
      "coupon                   0.000000\n",
      "expiration               0.000000\n",
      "gender                   0.000000\n",
      "age                      0.000000\n",
      "maritalStatus            0.000000\n",
      "has_children             0.000000\n",
      "education                0.000000\n",
      "occupation               0.000000\n",
      "income                   0.000000\n",
      "car                     99.148534\n",
      "Bar                      0.843582\n",
      "CoffeeHouse              1.710817\n",
      "CarryAway                1.190476\n",
      "RestaurantLessThan20     1.024913\n",
      "Restaurant20To50         1.490066\n",
      "toCoupon_GEQ5min         0.000000\n",
      "toCoupon_GEQ15min        0.000000\n",
      "toCoupon_GEQ25min        0.000000\n",
      "direction_same           0.000000\n",
      "direction_opp            0.000000\n",
      "Y                        0.000000\n",
      "dtype: float64\n"
     ]
    }
   ],
   "execution_count": 28
  },
  {
   "cell_type": "markdown",
   "metadata": {
    "id": "bSdVSpYB_qRH"
   },
   "source": [
    "3. Decide what to do about your missing data -- drop, replace, other..."
   ]
  },
  {
   "cell_type": "code",
   "metadata": {
    "id": "tyvoAC5F_qRI",
    "ExecuteTime": {
     "end_time": "2024-12-16T01:54:11.524424Z",
     "start_time": "2024-12-16T01:54:11.452072Z"
    }
   },
   "source": [
    "data['Bar'] = data['Bar'].fillna('never')\n",
    "data['car'] = data['car'].fillna('unknown')\n",
    "data['CoffeeHouse'] = data['CoffeeHouse'].fillna('never')\n",
    "data['CarryAway'] = data['CarryAway'].fillna('never')\n",
    "data['RestaurantLessThan20'] = data['RestaurantLessThan20'].fillna('never')\n",
    "data['Restaurant20To50'] = data['Restaurant20To50'].fillna('never')"
   ],
   "outputs": [],
   "execution_count": 49
  },
  {
   "cell_type": "markdown",
   "metadata": {
    "id": "YE6oJbXd_qRI"
   },
   "source": [
    "4. What proportion of the total observations chose to accept the coupon?\n",
    "\n"
   ]
  },
  {
   "cell_type": "code",
   "metadata": {
    "id": "86GGqBTv_qRI",
    "ExecuteTime": {
     "end_time": "2024-12-16T01:54:14.647763Z",
     "start_time": "2024-12-16T01:54:14.638863Z"
    }
   },
   "source": "data['Y'].value_counts(normalize=True) * 100",
   "outputs": [
    {
     "data": {
      "text/plain": [
       "1    56.843267\n",
       "0    43.156733\n",
       "Name: Y, dtype: float64"
      ]
     },
     "execution_count": 50,
     "metadata": {},
     "output_type": "execute_result"
    }
   ],
   "execution_count": 50
  },
  {
   "cell_type": "markdown",
   "metadata": {
    "id": "vflz0DoE_qRI"
   },
   "source": [
    "5. Use a bar plot to visualize the `coupon` column."
   ]
  },
  {
   "cell_type": "code",
   "metadata": {
    "id": "dHFh3E45_qRI",
    "ExecuteTime": {
     "end_time": "2024-12-16T01:54:17.703089Z",
     "start_time": "2024-12-16T01:54:17.516786Z"
    }
   },
   "source": [
    "coupon_counts = data['coupon'].value_counts()\n",
    "\n",
    "# Create the bar plot\n",
    "plt.figure(figsize=(10, 6))  # Adjust figure size if needed\n",
    "coupon_counts.plot(kind='bar', color='skyblue')\n",
    "plt.title('Distribution of Coupons')\n",
    "plt.xlabel('Coupon')\n",
    "plt.ylabel('Frequency')\n",
    "plt.xticks(rotation=45, ha='right')  # Rotate x-axis labels for better readability\n",
    "plt.tight_layout()  # Adjust layout to prevent labels from overlapping\n",
    "plt.show()"
   ],
   "outputs": [
    {
     "data": {
      "text/plain": [
       "<Figure size 1000x600 with 1 Axes>"
      ],
      "image/png": "[encoded data removed]"
     },
     "metadata": {},
     "output_type": "display_data"
    }
   ],
   "execution_count": 51
  },
  {
   "cell_type": "markdown",
   "metadata": {
    "id": "Qw4lCyx2_qRI"
   },
   "source": [
    "6. Use a histogram to visualize the temperature column."
   ]
  },
  {
   "cell_type": "code",
   "metadata": {
    "id": "Yg9Anv71_qRI",
    "ExecuteTime": {
     "end_time": "2024-12-16T01:54:20.742523Z",
     "start_time": "2024-12-16T01:54:20.572221Z"
    }
   },
   "source": [
    "plt.figure(figsize=(10, 6))  # Adjust figure size if needed\n",
    "plt.hist(data['temperature'], bins=10, color='skyblue', edgecolor='black')\n",
    "plt.title('Distribution of Temperature')\n",
    "plt.xlabel('Temperature')\n",
    "plt.ylabel('Frequency')\n",
    "plt.show()"
   ],
   "outputs": [
    {
     "data": {
      "text/plain": [
       "<Figure size 1000x600 with 1 Axes>"
      ],
      "image/png": "[encoded data removed]"
     },
     "metadata": {},
     "output_type": "display_data"
    }
   ],
   "execution_count": 52
  },
  {
   "cell_type": "code",
   "metadata": {
    "id": "zLtOaJQk_qRI",
    "ExecuteTime": {
     "end_time": "2024-12-16T01:13:59.768669Z",
     "start_time": "2024-12-16T01:13:59.511899Z"
    }
   },
   "source": [
    "plt.figure(figsize=(25, 6))\n",
    "sns.histplot(data['temperature'], bins=25, kde=False, color='lightgreen')\n",
    "plt.title('Temperature Distribution (Seaborn)')\n",
    "plt.xlabel('Temperature')\n",
    "plt.ylabel('Frequency')\n",
    "plt.show()"
   ],
   "outputs": [
    {
     "data": {
      "text/plain": [
       "<Figure size 2500x600 with 1 Axes>"
      ],
      "image/png": "[encoded data removed]"
     },
     "metadata": {},
     "output_type": "display_data"
    }
   ],
   "execution_count": 35
  },
  {
   "cell_type": "code",
   "execution_count": null,
   "metadata": {
    "id": "7GBHZKBp_qRJ"
   },
   "outputs": [],
   "source": []
  },
  {
   "cell_type": "code",
   "execution_count": null,
   "metadata": {
    "id": "Y5nBUA-j_qRJ"
   },
   "outputs": [],
   "source": []
  },
  {
   "cell_type": "code",
   "execution_count": null,
   "metadata": {
    "id": "ShcUC-Vm_qRJ"
   },
   "outputs": [],
   "source": []
  },
  {
   "cell_type": "markdown",
   "metadata": {
    "id": "FupfgeJk_qRJ"
   },
   "source": [
    "**Investigating the Bar Coupons**\n",
    "\n",
    "Now, we will lead you through an exploration of just the bar related coupons.  \n",
    "\n",
    "1. Create a new `DataFrame` that contains just the bar coupons.\n"
   ]
  },
  {
   "cell_type": "code",
   "metadata": {
    "id": "tMBlWuGq_qRJ",
    "ExecuteTime": {
     "end_time": "2024-12-16T01:54:27.639585Z",
     "start_time": "2024-12-16T01:54:27.611849Z"
    }
   },
   "source": [
    "bar_coupon_data = data[data[\"coupon\"] == 'Bar']\n",
    "bar_coupon_data\n",
    "# new_df = data[['Bar', 'Y']].copy()\n",
    "# new_df"
   ],
   "outputs": [
    {
     "data": {
      "text/plain": [
       "           destination  passanger weather  temperature  time coupon  \\\n",
       "9      No Urgent Place     Kid(s)   Sunny           80  10AM    Bar   \n",
       "13                Home      Alone   Sunny           55   6PM    Bar   \n",
       "17                Work      Alone   Sunny           55   7AM    Bar   \n",
       "24     No Urgent Place  Friend(s)   Sunny           80  10AM    Bar   \n",
       "35                Home      Alone   Sunny           55   6PM    Bar   \n",
       "...                ...        ...     ...          ...   ...    ...   \n",
       "12663  No Urgent Place  Friend(s)   Sunny           80  10PM    Bar   \n",
       "12664  No Urgent Place  Friend(s)   Sunny           55  10PM    Bar   \n",
       "12667  No Urgent Place      Alone   Rainy           55  10AM    Bar   \n",
       "12670  No Urgent Place    Partner   Rainy           55   6PM    Bar   \n",
       "12682             Work      Alone   Snowy           30   7AM    Bar   \n",
       "\n",
       "      expiration  gender age      maritalStatus  ...  toCoupon_GEQ5min  \\\n",
       "9             1d  Female  21  Unmarried partner  ...                 1   \n",
       "13            1d  Female  21  Unmarried partner  ...                 1   \n",
       "17            1d  Female  21  Unmarried partner  ...                 1   \n",
       "24            1d    Male  21             Single  ...                 1   \n",
       "35            1d    Male  21             Single  ...                 1   \n",
       "...          ...     ...  ..                ...  ...               ...   \n",
       "12663         1d    Male  26             Single  ...                 1   \n",
       "12664         2h    Male  26             Single  ...                 1   \n",
       "12667         1d    Male  26             Single  ...                 1   \n",
       "12670         2h    Male  26             Single  ...                 1   \n",
       "12682         1d    Male  26             Single  ...                 1   \n",
       "\n",
       "      toCoupon_GEQ15min toCoupon_GEQ25min direction_same direction_opp  Y  \\\n",
       "9                     1                 0              0             1  0   \n",
       "13                    0                 0              1             0  1   \n",
       "17                    1                 1              0             1  0   \n",
       "24                    0                 0              0             1  1   \n",
       "35                    0                 0              1             0  1   \n",
       "...                 ...               ...            ...           ... ..   \n",
       "12663                 1                 0              0             1  0   \n",
       "12664                 1                 0              0             1  0   \n",
       "12667                 1                 0              0             1  0   \n",
       "12670                 1                 0              0             1  0   \n",
       "12682                 1                 1              0             1  0   \n",
       "\n",
       "       Bar_Category    Age_Group           Combined_Category Income_Group  \n",
       "9      Once or less  25 or Under  Once or less - 25 or Under    Under 50K  \n",
       "13     Once or less  25 or Under  Once or less - 25 or Under    Under 50K  \n",
       "17     Once or less  25 or Under  Once or less - 25 or Under    Under 50K  \n",
       "24     Once or less  25 or Under  Once or less - 25 or Under     Over 50K  \n",
       "35     Once or less  25 or Under  Once or less - 25 or Under     Over 50K  \n",
       "...             ...          ...                         ...          ...  \n",
       "12663  Once or less      Over 25      Once or less - Over 25     Over 50K  \n",
       "12664  Once or less      Over 25      Once or less - Over 25     Over 50K  \n",
       "12667  Once or less      Over 25      Once or less - Over 25     Over 50K  \n",
       "12670  Once or less      Over 25      Once or less - Over 25     Over 50K  \n",
       "12682  Once or less      Over 25      Once or less - Over 25     Over 50K  \n",
       "\n",
       "[2017 rows x 30 columns]"
      ],
      "text/html": [
       "<div>\n",
       "<style scoped>\n",
       "    .dataframe tbody tr th:only-of-type {\n",
       "        vertical-align: middle;\n",
       "    }\n",
       "\n",
       "    .dataframe tbody tr th {\n",
       "        vertical-align: top;\n",
       "    }\n",
       "\n",
       "    .dataframe thead th {\n",
       "        text-align: right;\n",
       "    }\n",
       "</style>\n",
       "<table border=\"1\" class=\"dataframe\">\n",
       "  <thead>\n",
       "    <tr style=\"text-align: right;\">\n",
       "      <th></th>\n",
       "      <th>destination</th>\n",
       "      <th>passanger</th>\n",
       "      <th>weather</th>\n",
       "      <th>temperature</th>\n",
       "      <th>time</th>\n",
       "      <th>coupon</th>\n",
       "      <th>expiration</th>\n",
       "      <th>gender</th>\n",
       "      <th>age</th>\n",
       "      <th>maritalStatus</th>\n",
       "      <th>...</th>\n",
       "      <th>toCoupon_GEQ5min</th>\n",
       "      <th>toCoupon_GEQ15min</th>\n",
       "      <th>toCoupon_GEQ25min</th>\n",
       "      <th>direction_same</th>\n",
       "      <th>direction_opp</th>\n",
       "      <th>Y</th>\n",
       "      <th>Bar_Category</th>\n",
       "      <th>Age_Group</th>\n",
       "      <th>Combined_Category</th>\n",
       "      <th>Income_Group</th>\n",
       "    </tr>\n",
       "  </thead>\n",
       "  <tbody>\n",
       "    <tr>\n",
       "      <th>9</th>\n",
       "      <td>No Urgent Place</td>\n",
       "      <td>Kid(s)</td>\n",
       "      <td>Sunny</td>\n",
       "      <td>80</td>\n",
       "      <td>10AM</td>\n",
       "      <td>Bar</td>\n",
       "      <td>1d</td>\n",
       "      <td>Female</td>\n",
       "      <td>21</td>\n",
       "      <td>Unmarried partner</td>\n",
       "      <td>...</td>\n",
       "      <td>1</td>\n",
       "      <td>1</td>\n",
       "      <td>0</td>\n",
       "      <td>0</td>\n",
       "      <td>1</td>\n",
       "      <td>0</td>\n",
       "      <td>Once or less</td>\n",
       "      <td>25 or Under</td>\n",
       "      <td>Once or less - 25 or Under</td>\n",
       "      <td>Under 50K</td>\n",
       "    </tr>\n",
       "    <tr>\n",
       "      <th>13</th>\n",
       "      <td>Home</td>\n",
       "      <td>Alone</td>\n",
       "      <td>Sunny</td>\n",
       "      <td>55</td>\n",
       "      <td>6PM</td>\n",
       "      <td>Bar</td>\n",
       "      <td>1d</td>\n",
       "      <td>Female</td>\n",
       "      <td>21</td>\n",
       "      <td>Unmarried partner</td>\n",
       "      <td>...</td>\n",
       "      <td>1</td>\n",
       "      <td>0</td>\n",
       "      <td>0</td>\n",
       "      <td>1</td>\n",
       "      <td>0</td>\n",
       "      <td>1</td>\n",
       "      <td>Once or less</td>\n",
       "      <td>25 or Under</td>\n",
       "      <td>Once or less - 25 or Under</td>\n",
       "      <td>Under 50K</td>\n",
       "    </tr>\n",
       "    <tr>\n",
       "      <th>17</th>\n",
       "      <td>Work</td>\n",
       "      <td>Alone</td>\n",
       "      <td>Sunny</td>\n",
       "      <td>55</td>\n",
       "      <td>7AM</td>\n",
       "      <td>Bar</td>\n",
       "      <td>1d</td>\n",
       "      <td>Female</td>\n",
       "      <td>21</td>\n",
       "      <td>Unmarried partner</td>\n",
       "      <td>...</td>\n",
       "      <td>1</td>\n",
       "      <td>1</td>\n",
       "      <td>1</td>\n",
       "      <td>0</td>\n",
       "      <td>1</td>\n",
       "      <td>0</td>\n",
       "      <td>Once or less</td>\n",
       "      <td>25 or Under</td>\n",
       "      <td>Once or less - 25 or Under</td>\n",
       "      <td>Under 50K</td>\n",
       "    </tr>\n",
       "    <tr>\n",
       "      <th>24</th>\n",
       "      <td>No Urgent Place</td>\n",
       "      <td>Friend(s)</td>\n",
       "      <td>Sunny</td>\n",
       "      <td>80</td>\n",
       "      <td>10AM</td>\n",
       "      <td>Bar</td>\n",
       "      <td>1d</td>\n",
       "      <td>Male</td>\n",
       "      <td>21</td>\n",
       "      <td>Single</td>\n",
       "      <td>...</td>\n",
       "      <td>1</td>\n",
       "      <td>0</td>\n",
       "      <td>0</td>\n",
       "      <td>0</td>\n",
       "      <td>1</td>\n",
       "      <td>1</td>\n",
       "      <td>Once or less</td>\n",
       "      <td>25 or Under</td>\n",
       "      <td>Once or less - 25 or Under</td>\n",
       "      <td>Over 50K</td>\n",
       "    </tr>\n",
       "    <tr>\n",
       "      <th>35</th>\n",
       "      <td>Home</td>\n",
       "      <td>Alone</td>\n",
       "      <td>Sunny</td>\n",
       "      <td>55</td>\n",
       "      <td>6PM</td>\n",
       "      <td>Bar</td>\n",
       "      <td>1d</td>\n",
       "      <td>Male</td>\n",
       "      <td>21</td>\n",
       "      <td>Single</td>\n",
       "      <td>...</td>\n",
       "      <td>1</td>\n",
       "      <td>0</td>\n",
       "      <td>0</td>\n",
       "      <td>1</td>\n",
       "      <td>0</td>\n",
       "      <td>1</td>\n",
       "      <td>Once or less</td>\n",
       "      <td>25 or Under</td>\n",
       "      <td>Once or less - 25 or Under</td>\n",
       "      <td>Over 50K</td>\n",
       "    </tr>\n",
       "    <tr>\n",
       "      <th>...</th>\n",
       "      <td>...</td>\n",
       "      <td>...</td>\n",
       "      <td>...</td>\n",
       "      <td>...</td>\n",
       "      <td>...</td>\n",
       "      <td>...</td>\n",
       "      <td>...</td>\n",
       "      <td>...</td>\n",
       "      <td>...</td>\n",
       "      <td>...</td>\n",
       "      <td>...</td>\n",
       "      <td>...</td>\n",
       "      <td>...</td>\n",
       "      <td>...</td>\n",
       "      <td>...</td>\n",
       "      <td>...</td>\n",
       "      <td>...</td>\n",
       "      <td>...</td>\n",
       "      <td>...</td>\n",
       "      <td>...</td>\n",
       "      <td>...</td>\n",
       "    </tr>\n",
       "    <tr>\n",
       "      <th>12663</th>\n",
       "      <td>No Urgent Place</td>\n",
       "      <td>Friend(s)</td>\n",
       "      <td>Sunny</td>\n",
       "      <td>80</td>\n",
       "      <td>10PM</td>\n",
       "      <td>Bar</td>\n",
       "      <td>1d</td>\n",
       "      <td>Male</td>\n",
       "      <td>26</td>\n",
       "      <td>Single</td>\n",
       "      <td>...</td>\n",
       "      <td>1</td>\n",
       "      <td>1</td>\n",
       "      <td>0</td>\n",
       "      <td>0</td>\n",
       "      <td>1</td>\n",
       "      <td>0</td>\n",
       "      <td>Once or less</td>\n",
       "      <td>Over 25</td>\n",
       "      <td>Once or less - Over 25</td>\n",
       "      <td>Over 50K</td>\n",
       "    </tr>\n",
       "    <tr>\n",
       "      <th>12664</th>\n",
       "      <td>No Urgent Place</td>\n",
       "      <td>Friend(s)</td>\n",
       "      <td>Sunny</td>\n",
       "      <td>55</td>\n",
       "      <td>10PM</td>\n",
       "      <td>Bar</td>\n",
       "      <td>2h</td>\n",
       "      <td>Male</td>\n",
       "      <td>26</td>\n",
       "      <td>Single</td>\n",
       "      <td>...</td>\n",
       "      <td>1</td>\n",
       "      <td>1</td>\n",
       "      <td>0</td>\n",
       "      <td>0</td>\n",
       "      <td>1</td>\n",
       "      <td>0</td>\n",
       "      <td>Once or less</td>\n",
       "      <td>Over 25</td>\n",
       "      <td>Once or less - Over 25</td>\n",
       "      <td>Over 50K</td>\n",
       "    </tr>\n",
       "    <tr>\n",
       "      <th>12667</th>\n",
       "      <td>No Urgent Place</td>\n",
       "      <td>Alone</td>\n",
       "      <td>Rainy</td>\n",
       "      <td>55</td>\n",
       "      <td>10AM</td>\n",
       "      <td>Bar</td>\n",
       "      <td>1d</td>\n",
       "      <td>Male</td>\n",
       "      <td>26</td>\n",
       "      <td>Single</td>\n",
       "      <td>...</td>\n",
       "      <td>1</td>\n",
       "      <td>1</td>\n",
       "      <td>0</td>\n",
       "      <td>0</td>\n",
       "      <td>1</td>\n",
       "      <td>0</td>\n",
       "      <td>Once or less</td>\n",
       "      <td>Over 25</td>\n",
       "      <td>Once or less - Over 25</td>\n",
       "      <td>Over 50K</td>\n",
       "    </tr>\n",
       "    <tr>\n",
       "      <th>12670</th>\n",
       "      <td>No Urgent Place</td>\n",
       "      <td>Partner</td>\n",
       "      <td>Rainy</td>\n",
       "      <td>55</td>\n",
       "      <td>6PM</td>\n",
       "      <td>Bar</td>\n",
       "      <td>2h</td>\n",
       "      <td>Male</td>\n",
       "      <td>26</td>\n",
       "      <td>Single</td>\n",
       "      <td>...</td>\n",
       "      <td>1</td>\n",
       "      <td>1</td>\n",
       "      <td>0</td>\n",
       "      <td>0</td>\n",
       "      <td>1</td>\n",
       "      <td>0</td>\n",
       "      <td>Once or less</td>\n",
       "      <td>Over 25</td>\n",
       "      <td>Once or less - Over 25</td>\n",
       "      <td>Over 50K</td>\n",
       "    </tr>\n",
       "    <tr>\n",
       "      <th>12682</th>\n",
       "      <td>Work</td>\n",
       "      <td>Alone</td>\n",
       "      <td>Snowy</td>\n",
       "      <td>30</td>\n",
       "      <td>7AM</td>\n",
       "      <td>Bar</td>\n",
       "      <td>1d</td>\n",
       "      <td>Male</td>\n",
       "      <td>26</td>\n",
       "      <td>Single</td>\n",
       "      <td>...</td>\n",
       "      <td>1</td>\n",
       "      <td>1</td>\n",
       "      <td>1</td>\n",
       "      <td>0</td>\n",
       "      <td>1</td>\n",
       "      <td>0</td>\n",
       "      <td>Once or less</td>\n",
       "      <td>Over 25</td>\n",
       "      <td>Once or less - Over 25</td>\n",
       "      <td>Over 50K</td>\n",
       "    </tr>\n",
       "  </tbody>\n",
       "</table>\n",
       "<p>2017 rows × 30 columns</p>\n",
       "</div>"
      ]
     },
     "execution_count": 53,
     "metadata": {},
     "output_type": "execute_result"
    }
   ],
   "execution_count": 53
  },
  {
   "cell_type": "markdown",
   "metadata": {
    "id": "8ue6uCqf_qRJ"
   },
   "source": [
    "2. What proportion of bar coupons were accepted?\n"
   ]
  },
  {
   "cell_type": "code",
   "metadata": {
    "id": "hSdte8Mi_qRK",
    "ExecuteTime": {
     "end_time": "2024-12-16T01:54:30.190800Z",
     "start_time": "2024-12-16T01:54:30.110571Z"
    }
   },
   "source": [
    "\n",
    "bar_coupon_distribution = bar_coupon_data['Y'].value_counts(normalize=True) * 100\n",
    "print(bar_coupon_distribution)\n",
    "bar_coupon_distribution.index = ['Accepted', 'Not Accepted']\n",
    "plt.figure(figsize=(6, 6))\n",
    "bar_coupon_distribution.plot.pie(\n",
    "    autopct='%1.1f%%',  # Display percentages\n",
    "    startangle=90,      # Start angle for better orientation\n",
    "    cmap='viridis',     # Colormap for aesthetics\n",
    "    ylabel=''           # Remove default y-axis label\n",
    ")\n",
    "plt.title(\"Bar Coupon Distribution\")\n",
    "plt.show()"
   ],
   "outputs": [
    {
     "name": "stdout",
     "output_type": "stream",
     "text": [
      "0    58.998513\n",
      "1    41.001487\n",
      "Name: Y, dtype: float64\n"
     ]
    },
    {
     "data": {
      "text/plain": [
       "<Figure size 600x600 with 1 Axes>"
      ],
      "image/png": "[encoded data removed]"
     },
     "metadata": {},
     "output_type": "display_data"
    }
   ],
   "execution_count": 54
  },
  {
   "cell_type": "markdown",
   "metadata": {
    "id": "85nA_iEi_qRK"
   },
   "source": [
    "3. Compare the acceptance rate between those who went to a bar 3 or fewer times a month to those who went more.\n"
   ]
  },
  {
   "cell_type": "code",
   "metadata": {
    "id": "LBOrN-XM_qRK",
    "ExecuteTime": {
     "end_time": "2024-12-16T01:54:33.438253Z",
     "start_time": "2024-12-16T01:54:33.420021Z"
    }
   },
   "source": [
    "data['Bar'] = data['Bar'].fillna('never')\n",
    "data['Bar_Category'] = np.where(data['Bar'].isin(['never', 'less than 1', '1 to 3 times']), '3 or fewer times', 'More than 3 times')\n",
    "\n",
    "# Group by 'Bar_Category' and calculate the acceptance rate for each group\n",
    "acceptance_rate = data.groupby('Bar_Category')['Y'].value_counts(normalize=True) * 100\n",
    "\n",
    "# Print the acceptance rate\n",
    "print(acceptance_rate)"
   ],
   "outputs": [
    {
     "name": "stdout",
     "output_type": "stream",
     "text": [
      "Bar_Category       Y\n",
      "3 or fewer times   1    53.205128\n",
      "                   0    46.794872\n",
      "More than 3 times  1    59.457995\n",
      "                   0    40.542005\n",
      "Name: Y, dtype: float64\n"
     ]
    }
   ],
   "execution_count": 55
  },
  {
   "cell_type": "markdown",
   "metadata": {
    "id": "RBgcQwH4_qRK"
   },
   "source": [
    "4. Compare the acceptance rate between drivers who go to a bar more than once a month and are over the age of 25 to the all others.  Is there a difference?\n"
   ]
  },
  {
   "cell_type": "code",
   "metadata": {
    "id": "bf28bbeX_qRK",
    "ExecuteTime": {
     "end_time": "2024-12-16T01:54:35.761487Z",
     "start_time": "2024-12-16T01:54:35.729358Z"
    }
   },
   "source": [
    "# Create a new column 'Bar_Category' based on the 'Bar' column\n",
    "data['Bar_Category'] = np.where(data['Bar'].isin(['1 to 3 times', '4 to 8 times', 'greater than 8']), 'More than once', 'Once or less')\n",
    "\n",
    "# Create a new column 'Age_Group' based on the 'Age' column\n",
    "#data['Age_Group'] = np.where(data['age'] > 25, 'Over 25', '25 or Under')\n",
    "# Create a new column 'Age_Category' based on the 'Age' column\n",
    "data['Age_Group'] = np.where(data['age'].isin(['26', '31', '41', '50plus', '36']), 'Over 25', '25 or Under')\n",
    "\n",
    "\n",
    "# Combine 'Bar_Category' and 'Age_Group' into a single column 'Combined_Category'\n",
    "data['Combined_Category'] = data['Bar_Category'] + ' - ' + data['Age_Group']\n",
    "\n",
    "# Calculate the acceptance rate for the specific group (More than once - Over 25)\n",
    "over25_group_acceptance = data[data['Combined_Category'] == 'More than once - Over 25']['Y'].value_counts(normalize=True) * 100\n",
    "\n",
    "# Calculate the acceptance rate for all other groups\n",
    "below25_groups_acceptance = data[data['Combined_Category'] != 'More than once - Over 25']['Y'].value_counts(normalize=True) * 100\n",
    "\n",
    "# Print the acceptance rates\n",
    "print(\"Acceptance rate for drivers who go to a bar more than once a month and are over 25:\")\n",
    "print(over25_group_acceptance)\n",
    "\n",
    "print(\"\\nAcceptance rate for all other drivers:\")\n",
    "print(below25_groups_acceptance)"
   ],
   "outputs": [
    {
     "name": "stdout",
     "output_type": "stream",
     "text": [
      "Acceptance rate for drivers who go to a bar more than once a month and are over 25:\n",
      "Series([], Name: Y, dtype: float64)\n",
      "\n",
      "Acceptance rate for all other drivers:\n",
      "1    56.843267\n",
      "0    43.156733\n",
      "Name: Y, dtype: float64\n"
     ]
    }
   ],
   "execution_count": 56
  },
  {
   "cell_type": "markdown",
   "metadata": {
    "id": "S4RKT4PJ_qRK"
   },
   "source": [
    "5. Use the same process to compare the acceptance rate between drivers who go to bars more than once a month and had passengers that were not a kid and had occupations other than farming, fishing, or forestry.\n"
   ]
  },
  {
   "cell_type": "code",
   "metadata": {
    "id": "sENaI2Tg_qRK",
    "ExecuteTime": {
     "end_time": "2024-12-16T01:54:39.556658Z",
     "start_time": "2024-12-16T01:54:39.521972Z"
    }
   },
   "source": [
    "# Create a new column 'Bar_Category' based on the 'Bar' column\n",
    "data['Bar_Category'] = np.where(data['Bar'].isin(['1 to 3 times', '4 to 8 times', 'greater than 8']), 'More than once', 'Once or less')\n",
    "\n",
    "# Create a new column 'Age_Group' based on the 'Age' column\n",
    "#data['Age_Group'] = np.where(data['age'] > 25, 'Over 25', '25 or Under')\n",
    "# Create a new column 'Age_Category' based on the 'Age' column\n",
    "data['Age_Group'] = np.where(data['passanger'].isin(['Kid(s)']), 'With Kid', 'Without Kid')\n",
    "data['FFF_Group'] = np.where(data['occupation'].isin(['Farming Fishing & Forestry']), 'FFF', 'Without FFF')\n",
    "\n",
    "# Combine 'Bar_Category' and 'Age_Group' into a single column 'Combined_Category'\n",
    "data['Combined_Category'] = data['Bar_Category'] + ' - ' + data['Age_Group'] + ' - ' + data['FFF_Group']\n",
    "# Calculate the acceptance rate for the specific group (More than once - Over 25)\n",
    "without_kid_fff_group_acceptance = data[data['Combined_Category'] == 'More than once - Without Kid - Without FFF']['Y'].value_counts(normalize=True) * 100\n",
    "\n",
    "# Calculate the acceptance rate for all other groups\n",
    "not_without_kid_fff_groups_acceptance = data[data['Combined_Category'] != 'More than once - Without Kid - Without FFF']['Y'].value_counts(normalize=True) * 100\n",
    "\n",
    "# Print the acceptance rates\n",
    "print(\"Acceptance rate for drivers who go to a bar more than once a month and without a kid, and not fff:\")\n",
    "print(without_kid_fff_group_acceptance)\n",
    "\n",
    "print(\"\\nAcceptance rate for all other drivers:\")\n",
    "print(not_without_kid_fff_groups_acceptance)\n"
   ],
   "outputs": [
    {
     "name": "stdout",
     "output_type": "stream",
     "text": [
      "Acceptance rate for drivers who go to a bar more than once a month and without a kid, and not fff:\n",
      "Series([], Name: Y, dtype: float64)\n",
      "\n",
      "Acceptance rate for all other drivers:\n",
      "1    56.843267\n",
      "0    43.156733\n",
      "Name: Y, dtype: float64\n"
     ]
    }
   ],
   "execution_count": 57
  },
  {
   "cell_type": "markdown",
   "metadata": {
    "id": "n2LIUTil_qRK"
   },
   "source": [
    "6. Compare the acceptance rates between those drivers who:\n",
    "\n",
    "- go to bars more than once a month, had passengers that were not a kid, and were not widowed *OR*\n",
    "- go to bars more than once a month and are under the age of 30 *OR*\n",
    "- go to cheap restaurants more than 4 times a month and income is less than 50K.\n",
    "\n"
   ]
  },
  {
   "cell_type": "code",
   "metadata": {
    "id": "aK_wEzx7_qRK",
    "ExecuteTime": {
     "end_time": "2024-12-16T01:54:43.043813Z",
     "start_time": "2024-12-16T01:54:42.998629Z"
    }
   },
   "source": [
    "data['Bar_Category'] = np.where(data['Bar'].isin(['1 to 3 times', '4 to 8 times', 'greater than 8']), 'More than once', 'Once or less')\n",
    "data['Age_Group'] = np.where(data['passanger'].isin(['Kid(s)']), 'With Kid', 'Without Kid')\n",
    "data['MaritalStatus_Group'] = np.where(data['maritalStatus'].isin(['Widowed']), 'Widowed', 'Not Widowed')\n",
    "\n",
    "# Combine 'Bar_Category' and 'Age_Group' into a single column 'Combined_Category'\n",
    "data['Combined_Category'] = data['Bar_Category'] + ' - ' + data['Age_Group'] + ' - ' + data['MaritalStatus_Group']\n",
    "without_kid_widowed_group_acceptance = data[data['Combined_Category'] == 'More than once - Without Kid - Widowed']['Y'].value_counts(normalize=True) * 100\n",
    "\n",
    "# Calculate the acceptance rate for all other groups\n",
    "not_without_kid_widowed_groups_acceptance = data[data['Combined_Category'] != 'More than once - Without Kid - Widowed']['Y'].value_counts(normalize=True) * 100\n",
    "\n",
    "# Print the acceptance rates\n",
    "print(\"Acceptance rate for drivers who go to a bar more than once a month, passenger not a kid, and widowed:\")\n",
    "print(without_kid_widowed_group_acceptance)\n",
    "\n",
    "print(\"\\nAcceptance rate for all other drivers:\")\n",
    "print(not_without_kid_widowed_groups_acceptance)\n"
   ],
   "outputs": [
    {
     "name": "stdout",
     "output_type": "stream",
     "text": [
      "Acceptance rate for drivers who go to a bar more than once a month, passenger not a kid, and widowed:\n",
      "Series([], Name: Y, dtype: float64)\n",
      "\n",
      "Acceptance rate for all other drivers:\n",
      "1    56.843267\n",
      "0    43.156733\n",
      "Name: Y, dtype: float64\n"
     ]
    }
   ],
   "execution_count": 58
  },
  {
   "metadata": {
    "ExecuteTime": {
     "end_time": "2024-12-16T00:18:20.534870Z",
     "start_time": "2024-12-16T00:18:20.486027Z"
    }
   },
   "cell_type": "code",
   "source": [
    "data['Bar_Category'] = np.where(data['Bar'].isin(['1 to 3 times', '4 to 8 times', 'greater than 8']), 'More than once', 'Once or less')\n",
    "data['Age_Group'] = np.where(data['age'].isin(['31', '41', '50plus', '36']), 'Over 30', '30 or Under')\n",
    "\n",
    "\n",
    "# Combine 'Bar_Category' and 'Age_Group' into a single column 'Combined_Category'\n",
    "data['Combined_Category'] = data['Bar_Category'] + ' - ' + data['Age_Group'] \n",
    "over30_group_acceptance = data[data['Combined_Category'] == 'More than once - Over 30']['Y'].value_counts(normalize=True) * 100\n",
    "\n",
    "# Calculate the acceptance rate for all other groups\n",
    "under30_group_acceptance = data[data['Combined_Category'] != 'More than once - Over 30']['Y'].value_counts(normalize=True) * 100\n",
    "\n",
    "# Print the acceptance rates\n",
    "print(\"Acceptance rate for drivers who go to a bar more than once a month and age over 30:\")\n",
    "print(over30_group_acceptance)\n",
    "\n",
    "print(\"\\nAcceptance rate for all other drivers:\")\n",
    "print(under30_group_acceptance)"
   ],
   "outputs": [
    {
     "name": "stdout",
     "output_type": "stream",
     "text": [
      "Acceptance rate for drivers who go to a bar more than once a month and age over 30:\n",
      "Series([], Name: Y, dtype: float64)\n",
      "\n",
      "Acceptance rate for all other drivers:\n",
      "1    56.843267\n",
      "0    43.156733\n",
      "Name: Y, dtype: float64\n"
     ]
    }
   ],
   "execution_count": 21
  },
  {
   "metadata": {
    "ExecuteTime": {
     "end_time": "2024-12-16T01:54:46.011283Z",
     "start_time": "2024-12-16T01:54:45.977834Z"
    }
   },
   "cell_type": "code",
   "source": [
    "\n",
    "data['Bar_Category'] = np.where(data['RestaurantLessThan20'].isin(['4 - 8', 'gt8']), 'More than 4 times', 'Less than 4 times')\n",
    "\n",
    "data['Income_Group'] = np.where(data['income'].isin(['$50000 - $62499', '$62500 - $74999', '$75000 - $87499', '$87500 - $99999', '$100000 or More']), 'Over 50K', 'Under 50K')\n",
    "\n",
    "# Combine 'Bar_Category' and 'Age_Group' into a single column 'Combined_Category'\n",
    "data['Combined_Category'] = data['Bar_Category'] + ' - ' + data['Income_Group']\n",
    "over50k_group_acceptance = data[data['Combined_Category'] == 'More than 4 times - Over 50K']['Y'].value_counts(normalize=True) * 100\n",
    "\n",
    "# Calculate the acceptance rate for all other groups\n",
    "under50k_group_acceptance = data[data['Combined_Category'] != 'More than 4 times - Over 50K']['Y'].value_counts(normalize=True) * 100\n",
    "\n",
    "# Print the acceptance rates\n",
    "print(\"Acceptance rate for drivers who go to a cheap restaurant more than 4 times a month, and whose salary is less than 50K:\")\n",
    "print(over50k_group_acceptance)\n",
    "\n",
    "print(\"\\nAcceptance rate for all other drivers:\")\n",
    "print(under50k_group_acceptance)"
   ],
   "outputs": [
    {
     "name": "stdout",
     "output_type": "stream",
     "text": [
      "Acceptance rate for drivers who go to a cheap restaurant more than 4 times a month, and whose salary is less than 50K:\n",
      "1    54.723127\n",
      "0    45.276873\n",
      "Name: Y, dtype: float64\n",
      "\n",
      "Acceptance rate for all other drivers:\n",
      "1    56.951118\n",
      "0    43.048882\n",
      "Name: Y, dtype: float64\n"
     ]
    }
   ],
   "execution_count": 59
  },
  {
   "cell_type": "markdown",
   "metadata": {
    "id": "v3fL3QkO_qRK"
   },
   "source": [
    "7.  Based on these observations, what do you hypothesize about drivers who accepted the bar coupons?"
   ]
  },
  {
   "metadata": {},
   "cell_type": "markdown",
   "source": "People who have a kid or is widowed dont want to accept the coupon, 30 and over people are not interested in the coupon, More people accepted the coupon who earned less than 50K and went to bar more than 4 time per month"
  },
  {
   "cell_type": "markdown",
   "metadata": {
    "id": "r4Hu1zOb_qRL"
   },
   "source": [
    "### Independent Investigation\n",
    "\n",
    "Using the bar coupon example as motivation, you are to explore one of the other coupon groups and try to determine the characteristics of passengers who accept the coupons.  "
   ]
  },
  {
   "cell_type": "code",
   "metadata": {
    "id": "0c71cQhu_qRL",
    "ExecuteTime": {
     "end_time": "2024-12-16T01:39:20.634612Z",
     "start_time": "2024-12-16T01:39:20.486718Z"
    }
   },
   "source": [
    "\n",
    "\n",
    "grouped_data = bar_coupon_data.groupby(['gender', 'Y'])['Y'].count().unstack()\n",
    "grouped_data.plot(kind='bar', stacked=False, figsize=(8, 6), color=['skyblue', 'orange'])\n",
    "\n",
    "plt.title('Acceptance Counts by Gender')\n",
    "plt.xlabel('Gender')\n",
    "plt.ylabel('Count')\n",
    "plt.legend(['Not Accepted (0)', 'Accepted (1)'])\n",
    "plt.xticks(rotation=0)\n",
    "plt.show()\n"
   ],
   "outputs": [
    {
     "data": {
      "text/plain": [
       "<Figure size 800x600 with 1 Axes>"
      ],
      "image/png": "[encoded data removed]"
     },
     "metadata": {},
     "output_type": "display_data"
    }
   ],
   "execution_count": 46
  },
  {
   "cell_type": "code",
   "metadata": {
    "id": "QEsBkvIN_qRL",
    "ExecuteTime": {
     "end_time": "2024-12-16T01:44:02.051146Z",
     "start_time": "2024-12-16T01:44:01.856587Z"
    }
   },
   "source": [
    "data['Income_Group'] = np.where(data['income'].isin(['$50000 - $62499', '$62500 - $74999', '$75000 - $87499', '$87500 - $99999', '$100000 or More']), 'Over 50K', 'Under 50K')\n",
    "grouped_data = data.groupby(['gender', 'Income_Group'])['gender'].count().unstack()\n",
    "grouped_data.plot(kind='bar', stacked=False, figsize=(8, 6), color=['skyblue', 'orange'])\n",
    "\n",
    "plt.title('Income groups by Gender')\n",
    "plt.xlabel('Gender')\n",
    "plt.ylabel('Count')\n",
    "plt.legend(['Over 50K', 'Under 50K'])\n",
    "plt.xticks(rotation=0)\n",
    "plt.show()\n"
   ],
   "outputs": [
    {
     "data": {
      "text/plain": [
       "<Figure size 800x600 with 1 Axes>"
      ],
      "image/png": "[encoded data removed]"
     },
     "metadata": {},
     "output_type": "display_data"
    }
   ],
   "execution_count": 48
  },
  {
   "cell_type": "code",
   "execution_count": null,
   "metadata": {
    "id": "fTC2WGE3_qRL"
   },
   "outputs": [],
   "source": []
  },
  {
   "cell_type": "code",
   "execution_count": null,
   "metadata": {
    "id": "RrqUWn7d_qRL"
   },
   "outputs": [],
   "source": []
  },
  {
   "cell_type": "code",
   "execution_count": null,
   "metadata": {
    "id": "_oykf8YP_qRL"
   },
   "outputs": [],
   "source": []
  }
 ],
 "metadata": {
  "kernelspec": {
   "display_name": "Python 3 (ipykernel)",
   "language": "python",
   "name": "python3"
  },
  "language_info": {
   "codemirror_mode": {
    "name": "ipython",
    "version": 3
   },
   "file_extension": ".py",
   "mimetype": "text/x-python",
   "name": "python",
   "nbconvert_exporter": "python",
   "pygments_lexer": "ipython3",
   "version": "3.12.1"
  },
  "colab": {
   "provenance": []
  }
 },
 "nbformat": 4,
 "nbformat_minor": 0
}
